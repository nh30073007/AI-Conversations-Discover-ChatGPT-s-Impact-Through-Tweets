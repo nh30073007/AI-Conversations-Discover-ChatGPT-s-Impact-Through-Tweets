{
 "cells": [
  {
   "cell_type": "code",
   "execution_count": 1,
   "id": "d1f6a7f6",
   "metadata": {},
   "outputs": [
    {
     "name": "stdout",
     "output_type": "stream",
     "text": [
      "Tweet: This is a positive tweet\n",
      "Sentiment: Positive\n",
      "\n",
      "Tweet: I am not happy with the product\n",
      "Sentiment: Positive\n",
      "\n",
      "Training Accuracy: 0.8305741986576967\n"
     ]
    }
   ],
   "source": [
    "import pandas as pd\n",
    "import re\n",
    "import nltk\n",
    "from nltk.tokenize import word_tokenize\n",
    "from nltk.corpus import stopwords\n",
    "from nltk.stem import WordNetLemmatizer\n",
    "from nltk.sentiment import SentimentIntensityAnalyzer\n",
    "from sklearn.feature_extraction.text import CountVectorizer\n",
    "from sklearn.naive_bayes import MultinomialNB\n",
    "from sklearn.metrics import accuracy_score\n",
    "\n",
    "# DATASET\n",
    "df = pd.read_csv(r'C:\\Users\\nh013\\Desktop\\500k ChatGPT-related Tweets Jan-Mar 2023\\Twitter Jan Mar.csv')\n",
    "\n",
    "# CONVERT TO LOWERCASE\n",
    "df['content'] = df['content'].str.lower()\n",
    "\n",
    "# REMOVE URLS\n",
    "df['content'] = df['content'].apply(lambda x: re.sub(r'http\\S+', '', str(x)))\n",
    "\n",
    "# REMOVE SPECIAL CHARACTERS\n",
    "df['content'] = df['content'].apply(lambda x: re.sub(r'[^\\w\\s]', '', str(x)))\n",
    "\n",
    "# TOKENIZATION\n",
    "df['content'] = df['content'].apply(lambda x: word_tokenize(x))\n",
    "\n",
    "# STOPWORD REMOVAL\n",
    "stop_words = set(stopwords.words('english'))\n",
    "df['content'] = df['content'].apply(lambda x: [word for word in x if word not in stop_words])\n",
    "\n",
    "# LEMMATIZATION\n",
    "lemmatizer = WordNetLemmatizer()\n",
    "df['content'] = df['content'].apply(lambda x: [lemmatizer.lemmatize(word) for word in x])\n",
    "\n",
    "# SANTIMENT ANALYSIS USING VADER\n",
    "sia = SentimentIntensityAnalyzer()\n",
    "df['sentiment_polarity'] = df['content'].apply(lambda x: sia.polarity_scores(' '.join(x))['compound'])\n",
    "\n",
    "# CONVERT SENTIMENT SCORE TO CATEGORICAL LEBEL\n",
    "df['sentiment_category'] = df['sentiment_polarity'].apply(lambda x: 'Positive' if x > 0 else 'Negative' if x < 0 else 'Neutral')\n",
    "\n",
    "#SPLIT DATA\n",
    "X = df['content'].apply(lambda x: ' '.join(x))\n",
    "y = df['sentiment_category']\n",
    "\n",
    "# COUNTVECTORIZER\n",
    "vectorizer = CountVectorizer()\n",
    "X_vectorized = vectorizer.fit_transform(X)\n",
    "\n",
    "# MODEL\n",
    "nb_classifier = MultinomialNB()\n",
    "\n",
    "# TRAIN MODEL\n",
    "nb_classifier.fit(X_vectorized, y)\n",
    "\n",
    "# PREDICT SENTIMENT POLARITY\n",
    "X_test = ['This is a positive tweet', 'I am not happy with the product']\n",
    "X_test_vectorized = vectorizer.transform(X_test)\n",
    "y_pred = nb_classifier.predict(X_test_vectorized)\n",
    "\n",
    "\n",
    "for tweet, sentiment in zip(X_test, y_pred):\n",
    "    print(f\"Tweet: {tweet}\")\n",
    "    print(f\"Sentiment: {sentiment}\")\n",
    "    print()\n",
    "\n",
    "\n",
    "y_train_pred = nb_classifier.predict(X_vectorized)\n",
    "accuracy = accuracy_score(y, y_train_pred)\n",
    "print(f\"Training Accuracy: {accuracy}\")\n"
   ]
  },
  {
   "cell_type": "code",
   "execution_count": null,
   "id": "1d999169",
   "metadata": {},
   "outputs": [],
   "source": []
  }
 ],
 "metadata": {
  "kernelspec": {
   "display_name": "Python 3 (ipykernel)",
   "language": "python",
   "name": "python3"
  },
  "language_info": {
   "codemirror_mode": {
    "name": "ipython",
    "version": 3
   },
   "file_extension": ".py",
   "mimetype": "text/x-python",
   "name": "python",
   "nbconvert_exporter": "python",
   "pygments_lexer": "ipython3",
   "version": "3.10.9"
  }
 },
 "nbformat": 4,
 "nbformat_minor": 5
}
